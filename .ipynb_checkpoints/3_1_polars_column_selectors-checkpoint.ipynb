{
 "cells": [
  {
   "cell_type": "code",
   "execution_count": 1,
   "id": "f5ec6132-f7e8-4d82-8d30-c443cdf9bc89",
   "metadata": {},
   "outputs": [
    {
     "name": "stdout",
     "output_type": "stream",
     "text": [
      "Requirement already satisfied: polars in c:\\users\\fx3734qp\\appdata\\local\\anaconda3\\lib\\site-packages (1.33.1)\n"
     ]
    }
   ],
   "source": [
    "!pip install polars\n",
    "import polars as pl\n",
    "import polars.selectors as cs\n",
    "import re"
   ]
  },
  {
   "cell_type": "markdown",
   "id": "b689f90b-8792-4881-93b2-89b254ee507d",
   "metadata": {},
   "source": [
    "# Using `polars` column selectors\n",
    "\n",
    "In this notebook, we will look at using [`polars` column selectors](https://docs.pola.rs/api/python/stable/reference/selectors.html#selectors) to perform\n",
    "\n",
    "1. Column selections,\n",
    "2. Group & Aggregate, and\n",
    "3. Table Reshaping"
   ]
  },
  {
   "cell_type": "markdown",
   "id": "1f716ea8-c74d-4626-ae25-77eb451dd834",
   "metadata": {},
   "source": [
    "## Topic 1 - The Data - World Bank Economic Indicators\n",
    "\n",
    "First, let's load the World Bank's [World Development Indicators](https://databank.worldbank.org/source/world-development-indicators)."
   ]
  },
  {
   "cell_type": "markdown",
   "id": "b74d0dd7-26fd-4208-8330-9a086199d375",
   "metadata": {},
   "source": [
    "#### Attempt 1"
   ]
  },
  {
   "cell_type": "code",
   "execution_count": 2,
   "id": "a863172c-66cd-4ae8-8f53-b480c7cdf337",
   "metadata": {
    "scrolled": true
   },
   "outputs": [
    {
     "ename": "ComputeError",
     "evalue": "could not parse `..` as dtype `f64` at column '2011 [YR2011]' (column number 56)\n\nThe current offset in the file is 5818 bytes.\n\nYou might want to try:\n- increasing `infer_schema_length` (e.g. `infer_schema_length=10000`),\n- specifying correct dtype with the `schema_overrides` argument\n- setting `ignore_errors` to `True`,\n- adding `..` to the `null_values` list.\n\nOriginal error: ```remaining bytes non-empty```",
     "output_type": "error",
     "traceback": [
      "\u001b[1;31m---------------------------------------------------------------------------\u001b[0m",
      "\u001b[1;31mComputeError\u001b[0m                              Traceback (most recent call last)",
      "Cell \u001b[1;32mIn[2], line 2\u001b[0m\n\u001b[0;32m      1\u001b[0m (WB_dev_ind \u001b[38;5;241m:=\u001b[39m\n\u001b[1;32m----> 2\u001b[0m  pl\u001b[38;5;241m.\u001b[39mread_csv(\u001b[38;5;124m'\u001b[39m\u001b[38;5;124m./world_bank_raw_download_F23.csv\u001b[39m\u001b[38;5;124m'\u001b[39m)\n\u001b[0;32m      3\u001b[0m )\n",
      "File \u001b[1;32m~\\AppData\\Local\\anaconda3\\Lib\\site-packages\\polars\\_utils\\deprecation.py:128\u001b[0m, in \u001b[0;36mdeprecate_renamed_parameter.<locals>.decorate.<locals>.wrapper\u001b[1;34m(*args, **kwargs)\u001b[0m\n\u001b[0;32m    123\u001b[0m \u001b[38;5;129m@wraps\u001b[39m(function)\n\u001b[0;32m    124\u001b[0m \u001b[38;5;28;01mdef\u001b[39;00m\u001b[38;5;250m \u001b[39m\u001b[38;5;21mwrapper\u001b[39m(\u001b[38;5;241m*\u001b[39margs: P\u001b[38;5;241m.\u001b[39margs, \u001b[38;5;241m*\u001b[39m\u001b[38;5;241m*\u001b[39mkwargs: P\u001b[38;5;241m.\u001b[39mkwargs) \u001b[38;5;241m-\u001b[39m\u001b[38;5;241m>\u001b[39m T:\n\u001b[0;32m    125\u001b[0m     _rename_keyword_argument(\n\u001b[0;32m    126\u001b[0m         old_name, new_name, kwargs, function\u001b[38;5;241m.\u001b[39m\u001b[38;5;18m__qualname__\u001b[39m, version\n\u001b[0;32m    127\u001b[0m     )\n\u001b[1;32m--> 128\u001b[0m     \u001b[38;5;28;01mreturn\u001b[39;00m function(\u001b[38;5;241m*\u001b[39margs, \u001b[38;5;241m*\u001b[39m\u001b[38;5;241m*\u001b[39mkwargs)\n",
      "File \u001b[1;32m~\\AppData\\Local\\anaconda3\\Lib\\site-packages\\polars\\_utils\\deprecation.py:128\u001b[0m, in \u001b[0;36mdeprecate_renamed_parameter.<locals>.decorate.<locals>.wrapper\u001b[1;34m(*args, **kwargs)\u001b[0m\n\u001b[0;32m    123\u001b[0m \u001b[38;5;129m@wraps\u001b[39m(function)\n\u001b[0;32m    124\u001b[0m \u001b[38;5;28;01mdef\u001b[39;00m\u001b[38;5;250m \u001b[39m\u001b[38;5;21mwrapper\u001b[39m(\u001b[38;5;241m*\u001b[39margs: P\u001b[38;5;241m.\u001b[39margs, \u001b[38;5;241m*\u001b[39m\u001b[38;5;241m*\u001b[39mkwargs: P\u001b[38;5;241m.\u001b[39mkwargs) \u001b[38;5;241m-\u001b[39m\u001b[38;5;241m>\u001b[39m T:\n\u001b[0;32m    125\u001b[0m     _rename_keyword_argument(\n\u001b[0;32m    126\u001b[0m         old_name, new_name, kwargs, function\u001b[38;5;241m.\u001b[39m\u001b[38;5;18m__qualname__\u001b[39m, version\n\u001b[0;32m    127\u001b[0m     )\n\u001b[1;32m--> 128\u001b[0m     \u001b[38;5;28;01mreturn\u001b[39;00m function(\u001b[38;5;241m*\u001b[39margs, \u001b[38;5;241m*\u001b[39m\u001b[38;5;241m*\u001b[39mkwargs)\n",
      "File \u001b[1;32m~\\AppData\\Local\\anaconda3\\Lib\\site-packages\\polars\\_utils\\deprecation.py:128\u001b[0m, in \u001b[0;36mdeprecate_renamed_parameter.<locals>.decorate.<locals>.wrapper\u001b[1;34m(*args, **kwargs)\u001b[0m\n\u001b[0;32m    123\u001b[0m \u001b[38;5;129m@wraps\u001b[39m(function)\n\u001b[0;32m    124\u001b[0m \u001b[38;5;28;01mdef\u001b[39;00m\u001b[38;5;250m \u001b[39m\u001b[38;5;21mwrapper\u001b[39m(\u001b[38;5;241m*\u001b[39margs: P\u001b[38;5;241m.\u001b[39margs, \u001b[38;5;241m*\u001b[39m\u001b[38;5;241m*\u001b[39mkwargs: P\u001b[38;5;241m.\u001b[39mkwargs) \u001b[38;5;241m-\u001b[39m\u001b[38;5;241m>\u001b[39m T:\n\u001b[0;32m    125\u001b[0m     _rename_keyword_argument(\n\u001b[0;32m    126\u001b[0m         old_name, new_name, kwargs, function\u001b[38;5;241m.\u001b[39m\u001b[38;5;18m__qualname__\u001b[39m, version\n\u001b[0;32m    127\u001b[0m     )\n\u001b[1;32m--> 128\u001b[0m     \u001b[38;5;28;01mreturn\u001b[39;00m function(\u001b[38;5;241m*\u001b[39margs, \u001b[38;5;241m*\u001b[39m\u001b[38;5;241m*\u001b[39mkwargs)\n",
      "File \u001b[1;32m~\\AppData\\Local\\anaconda3\\Lib\\site-packages\\polars\\io\\csv\\functions.py:549\u001b[0m, in \u001b[0;36mread_csv\u001b[1;34m(source, has_header, columns, new_columns, separator, comment_prefix, quote_char, skip_rows, skip_lines, schema, schema_overrides, null_values, missing_utf8_is_empty_string, ignore_errors, try_parse_dates, n_threads, infer_schema, infer_schema_length, batch_size, n_rows, encoding, low_memory, rechunk, use_pyarrow, storage_options, skip_rows_after_header, row_index_name, row_index_offset, sample_size, eol_char, raise_if_empty, truncate_ragged_lines, decimal_comma, glob)\u001b[0m\n\u001b[0;32m    541\u001b[0m \u001b[38;5;28;01melse\u001b[39;00m:\n\u001b[0;32m    542\u001b[0m     \u001b[38;5;28;01mwith\u001b[39;00m prepare_file_arg(\n\u001b[0;32m    543\u001b[0m         source,\n\u001b[0;32m    544\u001b[0m         encoding\u001b[38;5;241m=\u001b[39mencoding,\n\u001b[1;32m   (...)\u001b[0m\n\u001b[0;32m    547\u001b[0m         storage_options\u001b[38;5;241m=\u001b[39mstorage_options,\n\u001b[0;32m    548\u001b[0m     ) \u001b[38;5;28;01mas\u001b[39;00m data:\n\u001b[1;32m--> 549\u001b[0m         df \u001b[38;5;241m=\u001b[39m _read_csv_impl(\n\u001b[0;32m    550\u001b[0m             data,\n\u001b[0;32m    551\u001b[0m             has_header\u001b[38;5;241m=\u001b[39mhas_header,\n\u001b[0;32m    552\u001b[0m             columns\u001b[38;5;241m=\u001b[39mcolumns \u001b[38;5;28;01mif\u001b[39;00m columns \u001b[38;5;28;01melse\u001b[39;00m projection,\n\u001b[0;32m    553\u001b[0m             separator\u001b[38;5;241m=\u001b[39mseparator,\n\u001b[0;32m    554\u001b[0m             comment_prefix\u001b[38;5;241m=\u001b[39mcomment_prefix,\n\u001b[0;32m    555\u001b[0m             quote_char\u001b[38;5;241m=\u001b[39mquote_char,\n\u001b[0;32m    556\u001b[0m             skip_rows\u001b[38;5;241m=\u001b[39mskip_rows,\n\u001b[0;32m    557\u001b[0m             skip_lines\u001b[38;5;241m=\u001b[39mskip_lines,\n\u001b[0;32m    558\u001b[0m             schema_overrides\u001b[38;5;241m=\u001b[39mschema_overrides,\n\u001b[0;32m    559\u001b[0m             schema\u001b[38;5;241m=\u001b[39mschema,\n\u001b[0;32m    560\u001b[0m             null_values\u001b[38;5;241m=\u001b[39mnull_values,\n\u001b[0;32m    561\u001b[0m             missing_utf8_is_empty_string\u001b[38;5;241m=\u001b[39mmissing_utf8_is_empty_string,\n\u001b[0;32m    562\u001b[0m             ignore_errors\u001b[38;5;241m=\u001b[39mignore_errors,\n\u001b[0;32m    563\u001b[0m             try_parse_dates\u001b[38;5;241m=\u001b[39mtry_parse_dates,\n\u001b[0;32m    564\u001b[0m             n_threads\u001b[38;5;241m=\u001b[39mn_threads,\n\u001b[0;32m    565\u001b[0m             infer_schema_length\u001b[38;5;241m=\u001b[39minfer_schema_length,\n\u001b[0;32m    566\u001b[0m             batch_size\u001b[38;5;241m=\u001b[39mbatch_size,\n\u001b[0;32m    567\u001b[0m             n_rows\u001b[38;5;241m=\u001b[39mn_rows,\n\u001b[0;32m    568\u001b[0m             encoding\u001b[38;5;241m=\u001b[39mencoding \u001b[38;5;28;01mif\u001b[39;00m encoding \u001b[38;5;241m==\u001b[39m \u001b[38;5;124m\"\u001b[39m\u001b[38;5;124mutf8-lossy\u001b[39m\u001b[38;5;124m\"\u001b[39m \u001b[38;5;28;01melse\u001b[39;00m \u001b[38;5;124m\"\u001b[39m\u001b[38;5;124mutf8\u001b[39m\u001b[38;5;124m\"\u001b[39m,\n\u001b[0;32m    569\u001b[0m             low_memory\u001b[38;5;241m=\u001b[39mlow_memory,\n\u001b[0;32m    570\u001b[0m             rechunk\u001b[38;5;241m=\u001b[39mrechunk,\n\u001b[0;32m    571\u001b[0m             skip_rows_after_header\u001b[38;5;241m=\u001b[39mskip_rows_after_header,\n\u001b[0;32m    572\u001b[0m             row_index_name\u001b[38;5;241m=\u001b[39mrow_index_name,\n\u001b[0;32m    573\u001b[0m             row_index_offset\u001b[38;5;241m=\u001b[39mrow_index_offset,\n\u001b[0;32m    574\u001b[0m             eol_char\u001b[38;5;241m=\u001b[39meol_char,\n\u001b[0;32m    575\u001b[0m             raise_if_empty\u001b[38;5;241m=\u001b[39mraise_if_empty,\n\u001b[0;32m    576\u001b[0m             truncate_ragged_lines\u001b[38;5;241m=\u001b[39mtruncate_ragged_lines,\n\u001b[0;32m    577\u001b[0m             decimal_comma\u001b[38;5;241m=\u001b[39mdecimal_comma,\n\u001b[0;32m    578\u001b[0m             glob\u001b[38;5;241m=\u001b[39mglob,\n\u001b[0;32m    579\u001b[0m         )\n\u001b[0;32m    581\u001b[0m \u001b[38;5;28;01mif\u001b[39;00m new_columns:\n\u001b[0;32m    582\u001b[0m     \u001b[38;5;28;01mreturn\u001b[39;00m _update_columns(df, new_columns)\n",
      "File \u001b[1;32m~\\AppData\\Local\\anaconda3\\Lib\\site-packages\\polars\\io\\csv\\functions.py:697\u001b[0m, in \u001b[0;36m_read_csv_impl\u001b[1;34m(source, has_header, columns, separator, comment_prefix, quote_char, skip_rows, skip_lines, schema, schema_overrides, null_values, missing_utf8_is_empty_string, ignore_errors, try_parse_dates, n_threads, infer_schema_length, batch_size, n_rows, encoding, low_memory, rechunk, skip_rows_after_header, row_index_name, row_index_offset, sample_size, eol_char, raise_if_empty, truncate_ragged_lines, decimal_comma, glob)\u001b[0m\n\u001b[0;32m    693\u001b[0m         \u001b[38;5;28;01mraise\u001b[39;00m \u001b[38;5;167;01mValueError\u001b[39;00m(msg)\n\u001b[0;32m    695\u001b[0m projection, columns \u001b[38;5;241m=\u001b[39m parse_columns_arg(columns)\n\u001b[1;32m--> 697\u001b[0m pydf \u001b[38;5;241m=\u001b[39m PyDataFrame\u001b[38;5;241m.\u001b[39mread_csv(\n\u001b[0;32m    698\u001b[0m     source,\n\u001b[0;32m    699\u001b[0m     infer_schema_length,\n\u001b[0;32m    700\u001b[0m     batch_size,\n\u001b[0;32m    701\u001b[0m     has_header,\n\u001b[0;32m    702\u001b[0m     ignore_errors,\n\u001b[0;32m    703\u001b[0m     n_rows,\n\u001b[0;32m    704\u001b[0m     skip_rows,\n\u001b[0;32m    705\u001b[0m     skip_lines,\n\u001b[0;32m    706\u001b[0m     projection,\n\u001b[0;32m    707\u001b[0m     separator,\n\u001b[0;32m    708\u001b[0m     rechunk,\n\u001b[0;32m    709\u001b[0m     columns,\n\u001b[0;32m    710\u001b[0m     encoding,\n\u001b[0;32m    711\u001b[0m     n_threads,\n\u001b[0;32m    712\u001b[0m     path,\n\u001b[0;32m    713\u001b[0m     dtype_list,\n\u001b[0;32m    714\u001b[0m     dtype_slice,\n\u001b[0;32m    715\u001b[0m     low_memory,\n\u001b[0;32m    716\u001b[0m     comment_prefix,\n\u001b[0;32m    717\u001b[0m     quote_char,\n\u001b[0;32m    718\u001b[0m     processed_null_values,\n\u001b[0;32m    719\u001b[0m     missing_utf8_is_empty_string,\n\u001b[0;32m    720\u001b[0m     try_parse_dates,\n\u001b[0;32m    721\u001b[0m     skip_rows_after_header,\n\u001b[0;32m    722\u001b[0m     parse_row_index_args(row_index_name, row_index_offset),\n\u001b[0;32m    723\u001b[0m     eol_char\u001b[38;5;241m=\u001b[39meol_char,\n\u001b[0;32m    724\u001b[0m     raise_if_empty\u001b[38;5;241m=\u001b[39mraise_if_empty,\n\u001b[0;32m    725\u001b[0m     truncate_ragged_lines\u001b[38;5;241m=\u001b[39mtruncate_ragged_lines,\n\u001b[0;32m    726\u001b[0m     decimal_comma\u001b[38;5;241m=\u001b[39mdecimal_comma,\n\u001b[0;32m    727\u001b[0m     schema\u001b[38;5;241m=\u001b[39mschema,\n\u001b[0;32m    728\u001b[0m )\n\u001b[0;32m    729\u001b[0m \u001b[38;5;28;01mreturn\u001b[39;00m wrap_df(pydf)\n",
      "\u001b[1;31mComputeError\u001b[0m: could not parse `..` as dtype `f64` at column '2011 [YR2011]' (column number 56)\n\nThe current offset in the file is 5818 bytes.\n\nYou might want to try:\n- increasing `infer_schema_length` (e.g. `infer_schema_length=10000`),\n- specifying correct dtype with the `schema_overrides` argument\n- setting `ignore_errors` to `True`,\n- adding `..` to the `null_values` list.\n\nOriginal error: ```remaining bytes non-empty```"
     ]
    }
   ],
   "source": [
    "(WB_dev_ind :=\n",
    " pl.read_csv('./world_bank_raw_download_F23.csv')\n",
    ")"
   ]
  },
  {
   "cell_type": "markdown",
   "id": "d88dc3fd-6ad9-412a-a292-e20dd6f36358",
   "metadata": {},
   "source": [
    "#### Attempt 2\n",
    "\n",
    "Let's use the first hint and extend the infer schema length."
   ]
  },
  {
   "cell_type": "code",
   "execution_count": 6,
   "id": "67c0f14d-94e8-49cd-a48e-56e9d81ad2d6",
   "metadata": {},
   "outputs": [
    {
     "data": {
      "text/html": [
       "<div><style>\n",
       ".dataframe > thead > tr,\n",
       ".dataframe > tbody > tr {\n",
       "  text-align: right;\n",
       "  white-space: pre-wrap;\n",
       "}\n",
       "</style>\n",
       "<small>shape: (10_173, 67)</small><table border=\"1\" class=\"dataframe\"><thead><tr><th>Country Name</th><th>Region</th><th>Series Name</th><th>Series Code</th><th>1960 [YR1960]</th><th>1961 [YR1961]</th><th>1962 [YR1962]</th><th>1963 [YR1963]</th><th>1964 [YR1964]</th><th>1965 [YR1965]</th><th>1966 [YR1966]</th><th>1967 [YR1967]</th><th>1968 [YR1968]</th><th>1969 [YR1969]</th><th>1970 [YR1970]</th><th>1971 [YR1971]</th><th>1972 [YR1972]</th><th>1973 [YR1973]</th><th>1974 [YR1974]</th><th>1975 [YR1975]</th><th>1976 [YR1976]</th><th>1977 [YR1977]</th><th>1978 [YR1978]</th><th>1979 [YR1979]</th><th>1980 [YR1980]</th><th>1981 [YR1981]</th><th>1982 [YR1982]</th><th>1983 [YR1983]</th><th>1984 [YR1984]</th><th>1985 [YR1985]</th><th>1986 [YR1986]</th><th>1987 [YR1987]</th><th>1988 [YR1988]</th><th>1989 [YR1989]</th><th>1990 [YR1990]</th><th>1991 [YR1991]</th><th>1992 [YR1992]</th><th>1993 [YR1993]</th><th>1994 [YR1994]</th><th>1995 [YR1995]</th><th>1996 [YR1996]</th><th>1997 [YR1997]</th><th>1998 [YR1998]</th><th>1999 [YR1999]</th><th>2000 [YR2000]</th><th>2001 [YR2001]</th><th>2002 [YR2002]</th><th>2003 [YR2003]</th><th>2004 [YR2004]</th><th>2005 [YR2005]</th><th>2006 [YR2006]</th><th>2007 [YR2007]</th><th>2008 [YR2008]</th><th>2009 [YR2009]</th><th>2010 [YR2010]</th><th>2011 [YR2011]</th><th>2012 [YR2012]</th><th>2013 [YR2013]</th><th>2014 [YR2014]</th><th>2015 [YR2015]</th><th>2016 [YR2016]</th><th>2017 [YR2017]</th><th>2018 [YR2018]</th><th>2019 [YR2019]</th><th>2020 [YR2020]</th><th>2021 [YR2021]</th><th>2022 [YR2022]</th></tr><tr><td>str</td><td>str</td><td>str</td><td>str</td><td>str</td><td>str</td><td>str</td><td>str</td><td>str</td><td>str</td><td>str</td><td>str</td><td>str</td><td>str</td><td>str</td><td>str</td><td>str</td><td>str</td><td>str</td><td>str</td><td>str</td><td>str</td><td>str</td><td>str</td><td>str</td><td>str</td><td>str</td><td>str</td><td>str</td><td>str</td><td>str</td><td>str</td><td>str</td><td>str</td><td>str</td><td>str</td><td>str</td><td>str</td><td>str</td><td>str</td><td>str</td><td>str</td><td>str</td><td>str</td><td>str</td><td>str</td><td>str</td><td>str</td><td>str</td><td>str</td><td>str</td><td>str</td><td>str</td><td>str</td><td>str</td><td>str</td><td>str</td><td>str</td><td>str</td><td>str</td><td>str</td><td>str</td><td>str</td><td>str</td><td>str</td><td>str</td><td>str</td></tr></thead><tbody><tr><td>&quot;Afghanistan&quot;</td><td>&quot;Asia&quot;</td><td>&quot;Diabetes prevalence (% of popu…</td><td>&quot;SH.STA.DIAB.ZS&quot;</td><td>&quot;..&quot;</td><td>&quot;..&quot;</td><td>&quot;..&quot;</td><td>&quot;..&quot;</td><td>&quot;..&quot;</td><td>&quot;..&quot;</td><td>&quot;..&quot;</td><td>&quot;..&quot;</td><td>&quot;..&quot;</td><td>&quot;..&quot;</td><td>&quot;..&quot;</td><td>&quot;..&quot;</td><td>&quot;..&quot;</td><td>&quot;..&quot;</td><td>&quot;..&quot;</td><td>&quot;..&quot;</td><td>&quot;..&quot;</td><td>&quot;..&quot;</td><td>&quot;..&quot;</td><td>&quot;..&quot;</td><td>&quot;..&quot;</td><td>&quot;..&quot;</td><td>&quot;..&quot;</td><td>&quot;..&quot;</td><td>&quot;..&quot;</td><td>&quot;..&quot;</td><td>&quot;..&quot;</td><td>&quot;..&quot;</td><td>&quot;..&quot;</td><td>&quot;..&quot;</td><td>&quot;..&quot;</td><td>&quot;..&quot;</td><td>&quot;..&quot;</td><td>&quot;..&quot;</td><td>&quot;..&quot;</td><td>&quot;..&quot;</td><td>&quot;..&quot;</td><td>&quot;..&quot;</td><td>&quot;..&quot;</td><td>&quot;..&quot;</td><td>&quot;..&quot;</td><td>&quot;..&quot;</td><td>&quot;..&quot;</td><td>&quot;..&quot;</td><td>&quot;..&quot;</td><td>&quot;..&quot;</td><td>&quot;..&quot;</td><td>&quot;..&quot;</td><td>&quot;..&quot;</td><td>&quot;..&quot;</td><td>&quot;..&quot;</td><td>&quot;7.6&quot;</td><td>&quot;..&quot;</td><td>&quot;..&quot;</td><td>&quot;..&quot;</td><td>&quot;..&quot;</td><td>&quot;..&quot;</td><td>&quot;..&quot;</td><td>&quot;..&quot;</td><td>&quot;..&quot;</td><td>&quot;..&quot;</td><td>&quot;10.9&quot;</td><td>&quot;..&quot;</td></tr><tr><td>&quot;Afghanistan&quot;</td><td>&quot;Asia&quot;</td><td>&quot;Diabetes prevalence (% of popu…</td><td>&quot;SH.STA.DIAB.ZS&quot;</td><td>&quot;..&quot;</td><td>&quot;..&quot;</td><td>&quot;..&quot;</td><td>&quot;..&quot;</td><td>&quot;..&quot;</td><td>&quot;..&quot;</td><td>&quot;..&quot;</td><td>&quot;..&quot;</td><td>&quot;..&quot;</td><td>&quot;..&quot;</td><td>&quot;..&quot;</td><td>&quot;..&quot;</td><td>&quot;..&quot;</td><td>&quot;..&quot;</td><td>&quot;..&quot;</td><td>&quot;..&quot;</td><td>&quot;..&quot;</td><td>&quot;..&quot;</td><td>&quot;..&quot;</td><td>&quot;..&quot;</td><td>&quot;..&quot;</td><td>&quot;..&quot;</td><td>&quot;..&quot;</td><td>&quot;..&quot;</td><td>&quot;..&quot;</td><td>&quot;..&quot;</td><td>&quot;..&quot;</td><td>&quot;..&quot;</td><td>&quot;..&quot;</td><td>&quot;..&quot;</td><td>&quot;..&quot;</td><td>&quot;..&quot;</td><td>&quot;..&quot;</td><td>&quot;..&quot;</td><td>&quot;..&quot;</td><td>&quot;..&quot;</td><td>&quot;..&quot;</td><td>&quot;..&quot;</td><td>&quot;..&quot;</td><td>&quot;..&quot;</td><td>&quot;..&quot;</td><td>&quot;..&quot;</td><td>&quot;..&quot;</td><td>&quot;..&quot;</td><td>&quot;..&quot;</td><td>&quot;..&quot;</td><td>&quot;..&quot;</td><td>&quot;..&quot;</td><td>&quot;..&quot;</td><td>&quot;..&quot;</td><td>&quot;..&quot;</td><td>&quot;7.6&quot;</td><td>&quot;..&quot;</td><td>&quot;..&quot;</td><td>&quot;..&quot;</td><td>&quot;..&quot;</td><td>&quot;..&quot;</td><td>&quot;..&quot;</td><td>&quot;..&quot;</td><td>&quot;..&quot;</td><td>&quot;..&quot;</td><td>&quot;10.9&quot;</td><td>&quot;..&quot;</td></tr><tr><td>&quot;Afghanistan&quot;</td><td>&quot;Asia&quot;</td><td>&quot;Diabetes prevalence (% of popu…</td><td>&quot;SH.STA.DIAB.ZS&quot;</td><td>&quot;..&quot;</td><td>&quot;..&quot;</td><td>&quot;..&quot;</td><td>&quot;..&quot;</td><td>&quot;..&quot;</td><td>&quot;..&quot;</td><td>&quot;..&quot;</td><td>&quot;..&quot;</td><td>&quot;..&quot;</td><td>&quot;..&quot;</td><td>&quot;..&quot;</td><td>&quot;..&quot;</td><td>&quot;..&quot;</td><td>&quot;..&quot;</td><td>&quot;..&quot;</td><td>&quot;..&quot;</td><td>&quot;..&quot;</td><td>&quot;..&quot;</td><td>&quot;..&quot;</td><td>&quot;..&quot;</td><td>&quot;..&quot;</td><td>&quot;..&quot;</td><td>&quot;..&quot;</td><td>&quot;..&quot;</td><td>&quot;..&quot;</td><td>&quot;..&quot;</td><td>&quot;..&quot;</td><td>&quot;..&quot;</td><td>&quot;..&quot;</td><td>&quot;..&quot;</td><td>&quot;..&quot;</td><td>&quot;..&quot;</td><td>&quot;..&quot;</td><td>&quot;..&quot;</td><td>&quot;..&quot;</td><td>&quot;..&quot;</td><td>&quot;..&quot;</td><td>&quot;..&quot;</td><td>&quot;..&quot;</td><td>&quot;..&quot;</td><td>&quot;..&quot;</td><td>&quot;..&quot;</td><td>&quot;..&quot;</td><td>&quot;..&quot;</td><td>&quot;..&quot;</td><td>&quot;..&quot;</td><td>&quot;..&quot;</td><td>&quot;..&quot;</td><td>&quot;..&quot;</td><td>&quot;..&quot;</td><td>&quot;..&quot;</td><td>&quot;7.6&quot;</td><td>&quot;..&quot;</td><td>&quot;..&quot;</td><td>&quot;..&quot;</td><td>&quot;..&quot;</td><td>&quot;..&quot;</td><td>&quot;..&quot;</td><td>&quot;..&quot;</td><td>&quot;..&quot;</td><td>&quot;..&quot;</td><td>&quot;10.9&quot;</td><td>&quot;..&quot;</td></tr><tr><td>&quot;Afghanistan&quot;</td><td>&quot;Asia&quot;</td><td>&quot;Diabetes prevalence (% of popu…</td><td>&quot;SH.STA.DIAB.ZS&quot;</td><td>&quot;..&quot;</td><td>&quot;..&quot;</td><td>&quot;..&quot;</td><td>&quot;..&quot;</td><td>&quot;..&quot;</td><td>&quot;..&quot;</td><td>&quot;..&quot;</td><td>&quot;..&quot;</td><td>&quot;..&quot;</td><td>&quot;..&quot;</td><td>&quot;..&quot;</td><td>&quot;..&quot;</td><td>&quot;..&quot;</td><td>&quot;..&quot;</td><td>&quot;..&quot;</td><td>&quot;..&quot;</td><td>&quot;..&quot;</td><td>&quot;..&quot;</td><td>&quot;..&quot;</td><td>&quot;..&quot;</td><td>&quot;..&quot;</td><td>&quot;..&quot;</td><td>&quot;..&quot;</td><td>&quot;..&quot;</td><td>&quot;..&quot;</td><td>&quot;..&quot;</td><td>&quot;..&quot;</td><td>&quot;..&quot;</td><td>&quot;..&quot;</td><td>&quot;..&quot;</td><td>&quot;..&quot;</td><td>&quot;..&quot;</td><td>&quot;..&quot;</td><td>&quot;..&quot;</td><td>&quot;..&quot;</td><td>&quot;..&quot;</td><td>&quot;..&quot;</td><td>&quot;..&quot;</td><td>&quot;..&quot;</td><td>&quot;..&quot;</td><td>&quot;..&quot;</td><td>&quot;..&quot;</td><td>&quot;..&quot;</td><td>&quot;..&quot;</td><td>&quot;..&quot;</td><td>&quot;..&quot;</td><td>&quot;..&quot;</td><td>&quot;..&quot;</td><td>&quot;..&quot;</td><td>&quot;..&quot;</td><td>&quot;..&quot;</td><td>&quot;7.6&quot;</td><td>&quot;..&quot;</td><td>&quot;..&quot;</td><td>&quot;..&quot;</td><td>&quot;..&quot;</td><td>&quot;..&quot;</td><td>&quot;..&quot;</td><td>&quot;..&quot;</td><td>&quot;..&quot;</td><td>&quot;..&quot;</td><td>&quot;10.9&quot;</td><td>&quot;..&quot;</td></tr><tr><td>&quot;Afghanistan&quot;</td><td>&quot;Asia&quot;</td><td>&quot;Diabetes prevalence (% of popu…</td><td>&quot;SH.STA.DIAB.ZS&quot;</td><td>&quot;..&quot;</td><td>&quot;..&quot;</td><td>&quot;..&quot;</td><td>&quot;..&quot;</td><td>&quot;..&quot;</td><td>&quot;..&quot;</td><td>&quot;..&quot;</td><td>&quot;..&quot;</td><td>&quot;..&quot;</td><td>&quot;..&quot;</td><td>&quot;..&quot;</td><td>&quot;..&quot;</td><td>&quot;..&quot;</td><td>&quot;..&quot;</td><td>&quot;..&quot;</td><td>&quot;..&quot;</td><td>&quot;..&quot;</td><td>&quot;..&quot;</td><td>&quot;..&quot;</td><td>&quot;..&quot;</td><td>&quot;..&quot;</td><td>&quot;..&quot;</td><td>&quot;..&quot;</td><td>&quot;..&quot;</td><td>&quot;..&quot;</td><td>&quot;..&quot;</td><td>&quot;..&quot;</td><td>&quot;..&quot;</td><td>&quot;..&quot;</td><td>&quot;..&quot;</td><td>&quot;..&quot;</td><td>&quot;..&quot;</td><td>&quot;..&quot;</td><td>&quot;..&quot;</td><td>&quot;..&quot;</td><td>&quot;..&quot;</td><td>&quot;..&quot;</td><td>&quot;..&quot;</td><td>&quot;..&quot;</td><td>&quot;..&quot;</td><td>&quot;..&quot;</td><td>&quot;..&quot;</td><td>&quot;..&quot;</td><td>&quot;..&quot;</td><td>&quot;..&quot;</td><td>&quot;..&quot;</td><td>&quot;..&quot;</td><td>&quot;..&quot;</td><td>&quot;..&quot;</td><td>&quot;..&quot;</td><td>&quot;..&quot;</td><td>&quot;7.6&quot;</td><td>&quot;..&quot;</td><td>&quot;..&quot;</td><td>&quot;..&quot;</td><td>&quot;..&quot;</td><td>&quot;..&quot;</td><td>&quot;..&quot;</td><td>&quot;..&quot;</td><td>&quot;..&quot;</td><td>&quot;..&quot;</td><td>&quot;10.9&quot;</td><td>&quot;..&quot;</td></tr><tr><td>&hellip;</td><td>&hellip;</td><td>&hellip;</td><td>&hellip;</td><td>&hellip;</td><td>&hellip;</td><td>&hellip;</td><td>&hellip;</td><td>&hellip;</td><td>&hellip;</td><td>&hellip;</td><td>&hellip;</td><td>&hellip;</td><td>&hellip;</td><td>&hellip;</td><td>&hellip;</td><td>&hellip;</td><td>&hellip;</td><td>&hellip;</td><td>&hellip;</td><td>&hellip;</td><td>&hellip;</td><td>&hellip;</td><td>&hellip;</td><td>&hellip;</td><td>&hellip;</td><td>&hellip;</td><td>&hellip;</td><td>&hellip;</td><td>&hellip;</td><td>&hellip;</td><td>&hellip;</td><td>&hellip;</td><td>&hellip;</td><td>&hellip;</td><td>&hellip;</td><td>&hellip;</td><td>&hellip;</td><td>&hellip;</td><td>&hellip;</td><td>&hellip;</td><td>&hellip;</td><td>&hellip;</td><td>&hellip;</td><td>&hellip;</td><td>&hellip;</td><td>&hellip;</td><td>&hellip;</td><td>&hellip;</td><td>&hellip;</td><td>&hellip;</td><td>&hellip;</td><td>&hellip;</td><td>&hellip;</td><td>&hellip;</td><td>&hellip;</td><td>&hellip;</td><td>&hellip;</td><td>&hellip;</td><td>&hellip;</td><td>&hellip;</td><td>&hellip;</td><td>&hellip;</td><td>&hellip;</td><td>&hellip;</td><td>&hellip;</td><td>&hellip;</td></tr><tr><td>null</td><td>null</td><td>null</td><td>null</td><td>null</td><td>null</td><td>null</td><td>null</td><td>null</td><td>null</td><td>null</td><td>null</td><td>null</td><td>null</td><td>null</td><td>null</td><td>null</td><td>null</td><td>null</td><td>null</td><td>null</td><td>null</td><td>null</td><td>null</td><td>null</td><td>null</td><td>null</td><td>null</td><td>null</td><td>null</td><td>null</td><td>null</td><td>null</td><td>null</td><td>null</td><td>null</td><td>null</td><td>null</td><td>null</td><td>null</td><td>null</td><td>null</td><td>null</td><td>null</td><td>null</td><td>null</td><td>null</td><td>null</td><td>null</td><td>null</td><td>null</td><td>null</td><td>null</td><td>null</td><td>null</td><td>null</td><td>null</td><td>null</td><td>null</td><td>null</td><td>null</td><td>null</td><td>null</td><td>null</td><td>null</td><td>null</td><td>null</td></tr><tr><td>null</td><td>null</td><td>null</td><td>null</td><td>null</td><td>null</td><td>null</td><td>null</td><td>null</td><td>null</td><td>null</td><td>null</td><td>null</td><td>null</td><td>null</td><td>null</td><td>null</td><td>null</td><td>null</td><td>null</td><td>null</td><td>null</td><td>null</td><td>null</td><td>null</td><td>null</td><td>null</td><td>null</td><td>null</td><td>null</td><td>null</td><td>null</td><td>null</td><td>null</td><td>null</td><td>null</td><td>null</td><td>null</td><td>null</td><td>null</td><td>null</td><td>null</td><td>null</td><td>null</td><td>null</td><td>null</td><td>null</td><td>null</td><td>null</td><td>null</td><td>null</td><td>null</td><td>null</td><td>null</td><td>null</td><td>null</td><td>null</td><td>null</td><td>null</td><td>null</td><td>null</td><td>null</td><td>null</td><td>null</td><td>null</td><td>null</td><td>null</td></tr><tr><td>null</td><td>null</td><td>null</td><td>null</td><td>null</td><td>null</td><td>null</td><td>null</td><td>null</td><td>null</td><td>null</td><td>null</td><td>null</td><td>null</td><td>null</td><td>null</td><td>null</td><td>null</td><td>null</td><td>null</td><td>null</td><td>null</td><td>null</td><td>null</td><td>null</td><td>null</td><td>null</td><td>null</td><td>null</td><td>null</td><td>null</td><td>null</td><td>null</td><td>null</td><td>null</td><td>null</td><td>null</td><td>null</td><td>null</td><td>null</td><td>null</td><td>null</td><td>null</td><td>null</td><td>null</td><td>null</td><td>null</td><td>null</td><td>null</td><td>null</td><td>null</td><td>null</td><td>null</td><td>null</td><td>null</td><td>null</td><td>null</td><td>null</td><td>null</td><td>null</td><td>null</td><td>null</td><td>null</td><td>null</td><td>null</td><td>null</td><td>null</td></tr><tr><td>&quot;Data from database: World Deve…</td><td>null</td><td>null</td><td>null</td><td>null</td><td>null</td><td>null</td><td>null</td><td>null</td><td>null</td><td>null</td><td>null</td><td>null</td><td>null</td><td>null</td><td>null</td><td>null</td><td>null</td><td>null</td><td>null</td><td>null</td><td>null</td><td>null</td><td>null</td><td>null</td><td>null</td><td>null</td><td>null</td><td>null</td><td>null</td><td>null</td><td>null</td><td>null</td><td>null</td><td>null</td><td>null</td><td>null</td><td>null</td><td>null</td><td>null</td><td>null</td><td>null</td><td>null</td><td>null</td><td>null</td><td>null</td><td>null</td><td>null</td><td>null</td><td>null</td><td>null</td><td>null</td><td>null</td><td>null</td><td>null</td><td>null</td><td>null</td><td>null</td><td>null</td><td>null</td><td>null</td><td>null</td><td>null</td><td>null</td><td>null</td><td>null</td><td>null</td></tr><tr><td>&quot;Last Updated: 10/26/2023&quot;</td><td>null</td><td>null</td><td>null</td><td>null</td><td>null</td><td>null</td><td>null</td><td>null</td><td>null</td><td>null</td><td>null</td><td>null</td><td>null</td><td>null</td><td>null</td><td>null</td><td>null</td><td>null</td><td>null</td><td>null</td><td>null</td><td>null</td><td>null</td><td>null</td><td>null</td><td>null</td><td>null</td><td>null</td><td>null</td><td>null</td><td>null</td><td>null</td><td>null</td><td>null</td><td>null</td><td>null</td><td>null</td><td>null</td><td>null</td><td>null</td><td>null</td><td>null</td><td>null</td><td>null</td><td>null</td><td>null</td><td>null</td><td>null</td><td>null</td><td>null</td><td>null</td><td>null</td><td>null</td><td>null</td><td>null</td><td>null</td><td>null</td><td>null</td><td>null</td><td>null</td><td>null</td><td>null</td><td>null</td><td>null</td><td>null</td><td>null</td></tr></tbody></table></div>"
      ],
      "text/plain": [
       "shape: (10_173, 67)\n",
       "┌────────────┬────────┬────────────┬───────────┬───┬───────────┬───────────┬───────────┬───────────┐\n",
       "│ Country    ┆ Region ┆ Series     ┆ Series    ┆ … ┆ 2019      ┆ 2020      ┆ 2021      ┆ 2022      │\n",
       "│ Name       ┆ ---    ┆ Name       ┆ Code      ┆   ┆ [YR2019]  ┆ [YR2020]  ┆ [YR2021]  ┆ [YR2022]  │\n",
       "│ ---        ┆ str    ┆ ---        ┆ ---       ┆   ┆ ---       ┆ ---       ┆ ---       ┆ ---       │\n",
       "│ str        ┆        ┆ str        ┆ str       ┆   ┆ str       ┆ str       ┆ str       ┆ str       │\n",
       "╞════════════╪════════╪════════════╪═══════════╪═══╪═══════════╪═══════════╪═══════════╪═══════════╡\n",
       "│ Afghanista ┆ Asia   ┆ Diabetes   ┆ SH.STA.DI ┆ … ┆ ..        ┆ ..        ┆ 10.9      ┆ ..        │\n",
       "│ n          ┆        ┆ prevalence ┆ AB.ZS     ┆   ┆           ┆           ┆           ┆           │\n",
       "│            ┆        ┆ (% of      ┆           ┆   ┆           ┆           ┆           ┆           │\n",
       "│            ┆        ┆ popu…      ┆           ┆   ┆           ┆           ┆           ┆           │\n",
       "│ Afghanista ┆ Asia   ┆ Diabetes   ┆ SH.STA.DI ┆ … ┆ ..        ┆ ..        ┆ 10.9      ┆ ..        │\n",
       "│ n          ┆        ┆ prevalence ┆ AB.ZS     ┆   ┆           ┆           ┆           ┆           │\n",
       "│            ┆        ┆ (% of      ┆           ┆   ┆           ┆           ┆           ┆           │\n",
       "│            ┆        ┆ popu…      ┆           ┆   ┆           ┆           ┆           ┆           │\n",
       "│ Afghanista ┆ Asia   ┆ Diabetes   ┆ SH.STA.DI ┆ … ┆ ..        ┆ ..        ┆ 10.9      ┆ ..        │\n",
       "│ n          ┆        ┆ prevalence ┆ AB.ZS     ┆   ┆           ┆           ┆           ┆           │\n",
       "│            ┆        ┆ (% of      ┆           ┆   ┆           ┆           ┆           ┆           │\n",
       "│            ┆        ┆ popu…      ┆           ┆   ┆           ┆           ┆           ┆           │\n",
       "│ Afghanista ┆ Asia   ┆ Diabetes   ┆ SH.STA.DI ┆ … ┆ ..        ┆ ..        ┆ 10.9      ┆ ..        │\n",
       "│ n          ┆        ┆ prevalence ┆ AB.ZS     ┆   ┆           ┆           ┆           ┆           │\n",
       "│            ┆        ┆ (% of      ┆           ┆   ┆           ┆           ┆           ┆           │\n",
       "│            ┆        ┆ popu…      ┆           ┆   ┆           ┆           ┆           ┆           │\n",
       "│ Afghanista ┆ Asia   ┆ Diabetes   ┆ SH.STA.DI ┆ … ┆ ..        ┆ ..        ┆ 10.9      ┆ ..        │\n",
       "│ n          ┆        ┆ prevalence ┆ AB.ZS     ┆   ┆           ┆           ┆           ┆           │\n",
       "│            ┆        ┆ (% of      ┆           ┆   ┆           ┆           ┆           ┆           │\n",
       "│            ┆        ┆ popu…      ┆           ┆   ┆           ┆           ┆           ┆           │\n",
       "│ …          ┆ …      ┆ …          ┆ …         ┆ … ┆ …         ┆ …         ┆ …         ┆ …         │\n",
       "│ null       ┆ null   ┆ null       ┆ null      ┆ … ┆ null      ┆ null      ┆ null      ┆ null      │\n",
       "│ null       ┆ null   ┆ null       ┆ null      ┆ … ┆ null      ┆ null      ┆ null      ┆ null      │\n",
       "│ null       ┆ null   ┆ null       ┆ null      ┆ … ┆ null      ┆ null      ┆ null      ┆ null      │\n",
       "│ Data from  ┆ null   ┆ null       ┆ null      ┆ … ┆ null      ┆ null      ┆ null      ┆ null      │\n",
       "│ database:  ┆        ┆            ┆           ┆   ┆           ┆           ┆           ┆           │\n",
       "│ World      ┆        ┆            ┆           ┆   ┆           ┆           ┆           ┆           │\n",
       "│ Deve…      ┆        ┆            ┆           ┆   ┆           ┆           ┆           ┆           │\n",
       "│ Last       ┆ null   ┆ null       ┆ null      ┆ … ┆ null      ┆ null      ┆ null      ┆ null      │\n",
       "│ Updated:   ┆        ┆            ┆           ┆   ┆           ┆           ┆           ┆           │\n",
       "│ 10/26/2023 ┆        ┆            ┆           ┆   ┆           ┆           ┆           ┆           │\n",
       "└────────────┴────────┴────────────┴───────────┴───┴───────────┴───────────┴───────────┴───────────┘"
      ]
     },
     "execution_count": 6,
     "metadata": {},
     "output_type": "execute_result"
    }
   ],
   "source": [
    "(WB_dev_ind :=\n",
    " pl.read_csv('./world_bank_raw_download_F23.csv', \n",
    "             infer_schema_length=10000,\n",
    "            )\n",
    ")"
   ]
  },
  {
   "cell_type": "markdown",
   "id": "ba511487-d143-4160-9ab7-36c4e4276cd5",
   "metadata": {},
   "source": [
    "#### Attempt 3\n",
    "\n",
    "Looks like missing data is expressed as `\"..\"`, let's add that as the `null_value`."
   ]
  },
  {
   "cell_type": "code",
   "execution_count": null,
   "id": "6ff1055f-ca6a-43c2-9dde-81802a1967f2",
   "metadata": {
    "scrolled": true
   },
   "outputs": [],
   "source": [
    "(WB_dev_ind :=\n",
    " pl.read_csv('./world_bank_raw_download_F23.csv', \n",
    "             infer_schema_length=10000, \n",
    "             null_values='..',\n",
    "            )\n",
    ")"
   ]
  },
  {
   "cell_type": "markdown",
   "id": "231e6dfc-7bd6-44a2-860f-cd1e69d195b1",
   "metadata": {},
   "source": [
    "#### Attempt 4 - Removing rows with a null `Series Name`\n",
    "\n",
    "Notice that there are some extra rows at the bottom of the table that don't correspond to a series name/code.  Let's remove these."
   ]
  },
  {
   "cell_type": "code",
   "execution_count": null,
   "id": "11de7626-38dc-45c7-8d0d-3800cac83f5f",
   "metadata": {},
   "outputs": [],
   "source": [
    "import polars as pl\n",
    "(WB_dev_ind :=\n",
    " pl.read_csv('./world_bank_raw_download_F23.csv', \n",
    "             infer_schema_length=10000, \n",
    "             null_values='..',\n",
    "            )\n",
    " .filter(pl.col(\"Series Name\").is_not_null())\n",
    ")"
   ]
  },
  {
   "cell_type": "markdown",
   "id": "931c7878-1ea3-4254-9390-4d43b521dbd6",
   "metadata": {},
   "source": [
    "#### Attempt 5 - Cleaning up the columns names using `rename` and a `dict` comprehension\n",
    "\n",
    "Notice that there are some extra rows at the bottom of the table that don't correspond to a series name/code.  Let's remove these."
   ]
  },
  {
   "cell_type": "markdown",
   "id": "4f716443-1502-4e67-8bb8-f9334cabf82b",
   "metadata": {},
   "source": [
    "#### Review - the `rename` method"
   ]
  },
  {
   "cell_type": "code",
   "execution_count": null,
   "id": "88bb7e3a-3d7c-4c64-bc5e-5a9163ac8d9d",
   "metadata": {},
   "outputs": [],
   "source": [
    "(WB_dev_ind\n",
    " .rename({'1960 [YR1960]':'1960',\n",
    "          '1961 [YR1961]':'1961',\n",
    "         })\n",
    " ).head()"
   ]
  },
  {
   "cell_type": "markdown",
   "id": "374a65f6-c666-424c-95e9-51246a41e6b5",
   "metadata": {},
   "source": [
    "#### First, do it to one ..."
   ]
  },
  {
   "cell_type": "code",
   "execution_count": null,
   "id": "10dd31a7-551f-485e-aedb-65b125903152",
   "metadata": {},
   "outputs": [],
   "source": [
    "'1960 [YR1960]'.split(' [')"
   ]
  },
  {
   "cell_type": "code",
   "execution_count": null,
   "id": "65027085-82fc-41cd-9aa3-02051707cbcd",
   "metadata": {},
   "outputs": [],
   "source": [
    "'1960 [YR1960]'.split(' [')[0]"
   ]
  },
  {
   "cell_type": "markdown",
   "id": "46efd875-7e0d-4727-99e1-da2baa3c12ab",
   "metadata": {},
   "source": [
    "#### ... then do it to all."
   ]
  },
  {
   "cell_type": "code",
   "execution_count": null,
   "id": "b2f781d9-ae94-4acc-985f-7d105bdabfe6",
   "metadata": {},
   "outputs": [],
   "source": [
    "(rename_years :=\n",
    "    {old: old.split(\" [\")[0] \n",
    "     for old in WB_dev_ind.columns \n",
    "     if '[YR' in old\n",
    "    }\n",
    ")"
   ]
  },
  {
   "cell_type": "code",
   "execution_count": null,
   "id": "2dfe636d-385d-4a2d-8f85-78fc88ea6b64",
   "metadata": {},
   "outputs": [],
   "source": [
    "(WB_dev_ind :=\n",
    " pl.read_csv('./world_bank_raw_download_F23.csv', \n",
    "             infer_schema_length=10000, \n",
    "             null_values='..',\n",
    "            )\n",
    " .filter(pl.col(\"Series Name\").is_not_null())\n",
    " .rename(rename_years)\n",
    ").head()"
   ]
  },
  {
   "cell_type": "markdown",
   "id": "9d1bddb7-a679-49b0-94fe-632b1c7fb862",
   "metadata": {},
   "source": [
    "## Topic 2 - Using list comprehensions to select columns\n",
    "\n",
    "While there is a cleaner solution (see below), we can use columns selection to illustrate using `list` comprehensions to programmically process the column names in a select.\n",
    "\n",
    "To illustrate, we look at some familiar string verbs.\n",
    "- `by_name` to select by the exact name,\n",
    "- `contains` to check for a sub-string,\n",
    "- `starts_with` and `ends_with` to select by prefix/suffix,\n",
    "- `matches` to capture more complicated patterns with a RegEx."
   ]
  },
  {
   "cell_type": "markdown",
   "id": "5e139828-7c1b-48ff-a62a-7930ad56ebe7",
   "metadata": {},
   "source": [
    "#### Example - Selecting BY NAME"
   ]
  },
  {
   "cell_type": "code",
   "execution_count": null,
   "id": "d2651d31-83c6-4938-baf3-d068dd98391a",
   "metadata": {
    "scrolled": true
   },
   "outputs": [],
   "source": [
    "(WB_dev_ind\n",
    " .select([col \n",
    "          for col in WB_dev_ind.columns \n",
    "          if col in (\"Series Name\", \"Series Code\")\n",
    "         ])\n",
    ").head()"
   ]
  },
  {
   "cell_type": "markdown",
   "id": "0b8012cd-c50b-47e5-bf01-ea770f044d4e",
   "metadata": {},
   "source": [
    "#### Example - Selecting the Series name that CONTAINS a substring"
   ]
  },
  {
   "cell_type": "code",
   "execution_count": null,
   "id": "cd44880c-cc0f-4c72-be34-3ccc78fbaeeb",
   "metadata": {},
   "outputs": [],
   "source": [
    "(WB_dev_ind\n",
    " .select([col \n",
    "          for col in WB_dev_ind.columns \n",
    "          if 'Series' in col\n",
    "         ])\n",
    ").head()\n"
   ]
  },
  {
   "cell_type": "markdown",
   "id": "f44ccfe1-f20c-4a66-80e4-a4166f43bc7a",
   "metadata": {},
   "source": [
    "#### Example - Selecting that STARTSWITH a substring"
   ]
  },
  {
   "cell_type": "code",
   "execution_count": null,
   "id": "08053120-f7f4-48fb-bd7c-79fa82d2d42e",
   "metadata": {},
   "outputs": [],
   "source": [
    "(WB_dev_ind\n",
    " .select([col \n",
    "          for col in WB_dev_ind.columns \n",
    "          if col.startswith('199')\n",
    "         ])\n",
    ").head()\n"
   ]
  },
  {
   "cell_type": "markdown",
   "id": "b90fd6d1-ee02-41a1-8afd-6831a2330b44",
   "metadata": {},
   "source": [
    "#### Example - Selecting columns that MATCH a RegEx pattern"
   ]
  },
  {
   "cell_type": "code",
   "execution_count": null,
   "id": "a58f8b61-c2e9-48cc-b710-a076b3094490",
   "metadata": {},
   "outputs": [],
   "source": [
    "early_90s = re.compile(r'^199[0-4]')\n",
    "the_90s = [str(y) for y in range(1990, 2000)]\n",
    "[early_90s.match(y) for y in the_90s]"
   ]
  },
  {
   "cell_type": "code",
   "execution_count": null,
   "id": "df933949-a1b9-40c1-8b1a-64700aa7b04a",
   "metadata": {},
   "outputs": [],
   "source": [
    "(WB_dev_ind\n",
    " .select([col \n",
    "          for col in WB_dev_ind.columns \n",
    "          if early_90s.match(col)\n",
    "         ])\n",
    ").head()\n"
   ]
  },
  {
   "cell_type": "markdown",
   "id": "d1c04146-d2a7-44d6-bcc9-29aaae578fc1",
   "metadata": {},
   "source": [
    "## <font color=\"red\"> Exercise 3.1.1 </font>\n",
    "\n",
    "Create a table the contains the diabetes prevalence for each region.  For each part, use list comprehensions where possible.\n",
    "\n",
    "Note that you will need to\n",
    "\n",
    "1. Reshape to move all relevant series into columns and years into rows,\n",
    "2. Compute the total diabetes cases for each country/year,\n",
    "3. Aggregate the numerator (total diabetes) and denominator (population) for each region/year, and\n",
    "4. Compute the diabetes prevalence."
   ]
  },
  {
   "cell_type": "code",
   "execution_count": null,
   "id": "fdbdd55c-be16-4fcc-98e9-03f6bf8f2876",
   "metadata": {},
   "outputs": [],
   "source": [
    "import polars as pl\n",
    "\n",
    "df_wdi = pl.DataFrame(WB_dev_ind)\n",
    "\n",
    "id_cols = ['Country Name', 'Region', 'Series Code']\n",
    "year_cols = [str(year) for year in range(1990, 2021, 10)]\n",
    "\n",
    "df_prevalence = (\n",
    "    df_wdi.melt(\n",
    "        id_vars=id_cols,\n",
    "        value_vars=year_cols,\n",
    "        variable_name='year',\n",
    "        value_name='value'\n",
    "    )\n",
    "    .pivot(\n",
    "        index=['Country Name', 'Region', 'year'],\n",
    "        columns='Series Code',\n",
    "        values='value',\n",
    "        aggregate_function=\"sum\"\n",
    "    )\n",
    "    .with_columns(\n",
    "        (pl.col('SP.POP.TOTL') * pl.col('SH.STA.DIAB.ZS') / 100).alias('total_diabetes_cases')\n",
    "    )\n",
    "    .group_by(['Region', 'year'])\n",
    "    .agg(\n",
    "        [\n",
    "            pl.sum('total_diabetes_cases').alias('total_diabetes_cases_region'),\n",
    "            pl.sum('SP.POP.TOTL').alias('total_population_region')\n",
    "        ]\n",
    "    )\n",
    "    .with_columns(\n",
    "        (pl.col('total_diabetes_cases_region') / pl.col('total_population_region') * 100).alias('prevalence_rate_region')\n",
    "    )\n",
    "    .sort(['Region', 'year'])\n",
    ")\n",
    "\n",
    "print(df_prevalence)"
   ]
  },
  {
   "cell_type": "markdown",
   "id": "03fbd022-5ab1-4022-9596-8362dc4769ef",
   "metadata": {},
   "source": [
    "## Topic 3 - `polars` Column Selectors\n",
    "\n",
    "Allow column selection based on\n",
    "\n",
    "- with familiar string verbs,\n",
    "- by name,\n",
    "- index,\n",
    "- type, or\n",
    "- other useful helper functions like `contains`, `starts_with`, or `matches`"
   ]
  },
  {
   "cell_type": "markdown",
   "id": "09a21a05-47de-4c7b-9213-352b671724f4",
   "metadata": {},
   "source": [
    "### Familiar string-based helpers\n",
    "\n",
    "First, we return to these string verbs.\n",
    "- `by_name` to select by the exact name,\n",
    "- `contains` to check for a sub-string,\n",
    "- `starts_with` and `ends_with` to select by prefix/suffix,\n",
    "- `matches` to capture more complicated patterns with a RegEx."
   ]
  },
  {
   "cell_type": "markdown",
   "id": "eee8e82e-dff8-40ea-a693-5136172c92a3",
   "metadata": {},
   "source": [
    "#### Example - Selecting by name"
   ]
  },
  {
   "cell_type": "code",
   "execution_count": null,
   "id": "b08cc5a9-ff85-41ad-8a96-2687834fa7eb",
   "metadata": {
    "scrolled": true
   },
   "outputs": [],
   "source": [
    "(WB_dev_ind\n",
    " .select(cs.by_name(\"Series Name\", \"Series Code\"))\n",
    ").head()"
   ]
  },
  {
   "cell_type": "markdown",
   "id": "58b52c16-caeb-499f-abca-3cf59397b48f",
   "metadata": {},
   "source": [
    "#### Example - Selecting the Series name and code using `contains`"
   ]
  },
  {
   "cell_type": "code",
   "execution_count": null,
   "id": "8ff1cbc1-66eb-47e4-9ba2-9cd267fd32d6",
   "metadata": {},
   "outputs": [],
   "source": [
    "(WB_dev_ind\n",
    " .select(cs.contains('Series'))\n",
    ").head()\n"
   ]
  },
  {
   "cell_type": "markdown",
   "id": "9949a570-c567-4c4c-a68c-1e27ceed8241",
   "metadata": {},
   "source": [
    "#### Example - Selecting the 1990's using `starts_with`"
   ]
  },
  {
   "cell_type": "code",
   "execution_count": null,
   "id": "97b4016e-c227-41a2-9e18-fbe17d09e324",
   "metadata": {},
   "outputs": [],
   "source": [
    "(WB_dev_ind\n",
    " .select(cs.starts_with('199'))\n",
    ").head()\n"
   ]
  },
  {
   "cell_type": "markdown",
   "id": "8d4a8729-ec7b-4350-baa2-c99ac64ce35e",
   "metadata": {},
   "source": [
    "#### Example - Selecting the first five years of 1990's using `matches`"
   ]
  },
  {
   "cell_type": "code",
   "execution_count": null,
   "id": "9569f141-1128-4a35-807c-7f576784f731",
   "metadata": {},
   "outputs": [],
   "source": [
    "(WB_dev_ind\n",
    " .select(cs.matches(r'^199[0-4]'))\n",
    ").head()\n"
   ]
  },
  {
   "cell_type": "markdown",
   "id": "986318d4-8d29-4866-a6af-f1cad2741863",
   "metadata": {},
   "source": [
    "### Selecting columns by type\n",
    "\n",
    "One unique feature of `polars` columns selectors is the ability to select columns by type."
   ]
  },
  {
   "cell_type": "markdown",
   "id": "59ac1afb-63e6-4666-8fe7-2e7794c65c05",
   "metadata": {},
   "source": [
    "#### Example - Selecting by index"
   ]
  },
  {
   "cell_type": "code",
   "execution_count": null,
   "id": "60e19443-0e26-45a4-a045-d204a123e75d",
   "metadata": {
    "scrolled": true
   },
   "outputs": [],
   "source": [
    "(WB_dev_ind\n",
    " .select(cs.by_index(range(1,5)))\n",
    ").head()"
   ]
  },
  {
   "cell_type": "markdown",
   "id": "b10a3a2b-af77-4c8f-a047-098c50475509",
   "metadata": {},
   "source": [
    "#### Example - Selecting all string columns."
   ]
  },
  {
   "cell_type": "code",
   "execution_count": null,
   "id": "2137bad9-bdcb-4b62-b426-cfb6a6f01898",
   "metadata": {
    "scrolled": true
   },
   "outputs": [],
   "source": [
    "(WB_dev_ind\n",
    " .select(cs.by_dtype(pl.String))\n",
    ").head()"
   ]
  },
  {
   "cell_type": "code",
   "execution_count": null,
   "id": "48e89841-dc66-4079-85eb-72e0090d4921",
   "metadata": {
    "scrolled": true
   },
   "outputs": [],
   "source": [
    "(WB_dev_ind\n",
    " .select(cs.string())\n",
    ").head()"
   ]
  },
  {
   "cell_type": "markdown",
   "id": "e3522998-f4cc-4af8-b84b-cb0f382f0461",
   "metadata": {},
   "source": [
    "### Combining selectors with set operations\n",
    "\n",
    "Another useful feature: Combine with set operations:\n",
    "\n",
    "- **Complement.** `~selector1`\n",
    "- **Union.** `selector1 | selector2`\n",
    "- **Intersection.** `selector1 & selector2`\n",
    "- **Difference.** `selector1 - selector2`\n",
    "- **Symmetric difference.** `selector1 ^ selector2`"
   ]
  },
  {
   "cell_type": "markdown",
   "id": "a01c2af7-84db-41be-acf7-7fac88770326",
   "metadata": {},
   "source": [
    "#### Example - All the string/index columns excluding the `Series Code`"
   ]
  },
  {
   "cell_type": "code",
   "execution_count": null,
   "id": "e125433b-64c3-4723-9a5b-b1d9e90a7ee5",
   "metadata": {},
   "outputs": [],
   "source": [
    "(WB_dev_ind\n",
    " .select(cs.string() - cs.contains('Code'))\n",
    ").head()\n"
   ]
  },
  {
   "cell_type": "markdown",
   "id": "573a1a83-63ba-4566-95af-903527dc4dca",
   "metadata": {},
   "source": [
    "#### Example - All index columns (minus the `Series Code`) and the `1990`s"
   ]
  },
  {
   "cell_type": "code",
   "execution_count": null,
   "id": "5ab76126-b7b9-45cc-82a4-80b8bd666265",
   "metadata": {},
   "outputs": [],
   "source": [
    "(WB_dev_ind\n",
    " .select(cs.string() - cs.contains('Code') | cs.starts_with('199'))\n",
    ").head()\n"
   ]
  },
  {
   "cell_type": "markdown",
   "id": "7e2885cd-e0b5-4062-8767-7f2bd2594935",
   "metadata": {},
   "source": [
    "### Using column selectors to reshape tables.\n",
    "\n",
    "Another place where column selectors are useful is when reshaping tables, e.g., using `pivot` or `unpivot`."
   ]
  },
  {
   "cell_type": "markdown",
   "id": "f08376b7-6c24-44e7-9110-0ac7d90c5698",
   "metadata": {},
   "source": [
    "### Example - Making a tidy subset of the data\n",
    "\n",
    "**Goal.** Compare the urban and overall population changes across regions for each year in the `1990`s for each region.\n",
    "\n",
    "**Task 1.** Tidy up the table by reshaping, by\n",
    "1. `filter` to the measures of interest,\n",
    "1. `unpivot` the years in question, and\n",
    "2. `pivot` to measures into separate columns."
   ]
  },
  {
   "cell_type": "markdown",
   "id": "1c4ab7d9-ebb9-4eaf-8001-9778184d8f17",
   "metadata": {},
   "source": [
    "#### Solution - Using columns selectors in `unpivot` and `pivot`"
   ]
  },
  {
   "cell_type": "code",
   "execution_count": null,
   "id": "32cf9da3-85b1-4202-bd85-9c549d4c083c",
   "metadata": {},
   "outputs": [],
   "source": [
    "WB_dev_ind['Series Name'].unique()"
   ]
  },
  {
   "cell_type": "code",
   "execution_count": null,
   "id": "266bc664-588d-41c0-8b08-8093b67bd578",
   "metadata": {},
   "outputs": [],
   "source": [
    "(pop_nums :=\n",
    " WB_dev_ind\n",
    " .select(cs.string() - cs.contains('Code') \n",
    "         | cs.starts_with('199')\n",
    "        )\n",
    " .filter(pl.col('Series Name')\n",
    "           .str.contains(r'^(Urban|Population)')\n",
    "        )\n",
    " .unpivot(on = cs.starts_with('199'),\n",
    "          index= cs.string(),\n",
    "          variable_name = \"Year\",\n",
    "          )\n",
    " .pivot(on = 'Series Name',\n",
    "        values = 'value',\n",
    "        index = cs.by_name('Region', 'Year'),  # Column selectors captured the new column!\n",
    "        aggregate_function='sum'\n",
    "       )\n",
    ")"
   ]
  },
  {
   "cell_type": "markdown",
   "id": "9282e5cb-c332-40fc-8191-9c4a65f8489f",
   "metadata": {},
   "source": [
    "## <font color=\"red\"> Exercise 3.1.2 </font>\n",
    "\n",
    "Create a table the contains the diabetes prevalence for each region.  For each part, use column selectors where possible.\n",
    "\n",
    "Note that you will need to\n",
    "\n",
    "1. Reshape to move all relevant series into columns and years into rows,\n",
    "2. Compute the total diabetes cases for each country/year,\n",
    "3. Aggregate the numerator (total diabetes) and denominator (population) for each region/year, and\n",
    "4. Compute the diabetes prevalence."
   ]
  },
  {
   "cell_type": "code",
   "execution_count": 8,
   "id": "f24128ed-da0b-4710-99e3-6f5262505864",
   "metadata": {},
   "outputs": [
    {
     "name": "stdout",
     "output_type": "stream",
     "text": [
      "shape: (448, 5)\n",
      "┌──────────────┬───────────────┬──────────────────────┬──────────────────────┬─────────────────────┐\n",
      "│ Region       ┆ year          ┆ total_diabetes_cases ┆ total_population_reg ┆ prevalence_rate_reg │\n",
      "│ ---          ┆ ---           ┆ _region              ┆ ion                  ┆ ion                 │\n",
      "│ str          ┆ str           ┆ ---                  ┆ ---                  ┆ ---                 │\n",
      "│              ┆               ┆ f64                  ┆ f64                  ┆ f64                 │\n",
      "╞══════════════╪═══════════════╪══════════════════════╪══════════════════════╪═════════════════════╡\n",
      "│ null         ┆ 1960 [YR1960] ┆ 0.0                  ┆ 0.0                  ┆ NaN                 │\n",
      "│ null         ┆ 1961 [YR1961] ┆ 0.0                  ┆ 0.0                  ┆ NaN                 │\n",
      "│ null         ┆ 1962 [YR1962] ┆ 0.0                  ┆ 0.0                  ┆ NaN                 │\n",
      "│ null         ┆ 1963 [YR1963] ┆ 0.0                  ┆ 0.0                  ┆ NaN                 │\n",
      "│ null         ┆ 1964 [YR1964] ┆ 0.0                  ┆ 0.0                  ┆ NaN                 │\n",
      "│ …            ┆ …             ┆ …                    ┆ …                    ┆ …                   │\n",
      "│ The Americas ┆ 2019 [YR2019] ┆ 0.0                  ┆ 0.0                  ┆ NaN                 │\n",
      "│ The Americas ┆ 2020 [YR2020] ┆ 0.0                  ┆ 0.0                  ┆ NaN                 │\n",
      "│ The Americas ┆ 2021 [YR2021] ┆ 0.0                  ┆ 0.0                  ┆ NaN                 │\n",
      "│ The Americas ┆ 2022 [YR2022] ┆ 0.0                  ┆ 0.0                  ┆ NaN                 │\n",
      "│ The Americas ┆ Series Name   ┆ 0.0                  ┆ 0.0                  ┆ NaN                 │\n",
      "└──────────────┴───────────────┴──────────────────────┴──────────────────────┴─────────────────────┘\n"
     ]
    },
    {
     "name": "stderr",
     "output_type": "stream",
     "text": [
      "C:\\Users\\fx3734qp\\AppData\\Local\\Temp\\ipykernel_21912\\4157434399.py:8: DeprecationWarning: `DataFrame.melt` is deprecated; use `DataFrame.unpivot` instead, with `index` instead of `id_vars` and `on` instead of `value_vars`\n",
      "  WB_dev_ind.melt(\n",
      "C:\\Users\\fx3734qp\\AppData\\Local\\Temp\\ipykernel_21912\\4157434399.py:14: DeprecationWarning: the argument `columns` for `DataFrame.pivot` is deprecated. It was renamed to `on` in version 1.0.0.\n",
      "  .pivot(\n"
     ]
    }
   ],
   "source": [
    "# Your code here\n",
    "import polars as pl\n",
    "import polars.selectors as cs\n",
    "WB_dev_ind = pl.DataFrame(WB_dev_ind)\n",
    "\n",
    "# Reshape, compute, and aggregate in a single chain\n",
    "df_prevalence = (\n",
    "    WB_dev_ind.melt(\n",
    "        id_vars=['Country Name', 'Region', 'Series Code'],\n",
    "        value_vars=cs.matches(r'^\\d{4}$'),\n",
    "        variable_name='year',\n",
    "        value_name='value'\n",
    "    )\n",
    "    .pivot(\n",
    "        index=['Country Name', 'Region', 'year'],\n",
    "        columns='Series Code',\n",
    "        values='value',\n",
    "        aggregate_function=\"sum\"\n",
    "    )\n",
    "    # Corrected: Use .with_columns to cast both SP.POP.TOTL and SH.STA.DIAB.ZS\n",
    "    .with_columns(\n",
    "        [\n",
    "            pl.col('SP.POP.TOTL').cast(pl.Float64, strict=False),\n",
    "            pl.col('SH.STA.DIAB.ZS').cast(pl.Float64, strict=False)\n",
    "        ]\n",
    "    )\n",
    "    .with_columns(\n",
    "        total_diabetes_cases=(\n",
    "            pl.col('SP.POP.TOTL') * pl.col('SH.STA.DIAB.ZS') / 100\n",
    "        )\n",
    "    )\n",
    "    .group_by(cs.by_name('Region', 'year'))\n",
    "    .agg(\n",
    "        pl.sum('total_diabetes_cases').alias('total_diabetes_cases_region'),\n",
    "        pl.sum('SP.POP.TOTL').alias('total_population_region')\n",
    "    )\n",
    "    .with_columns(\n",
    "        prevalence_rate_region=(\n",
    "            pl.col('total_diabetes_cases_region') / pl.col('total_population_region') * 100\n",
    "        )\n",
    "    )\n",
    "    .sort(['Region', 'year'])\n",
    ")\n",
    "\n",
    "print(df_prevalence)"
   ]
  },
  {
   "cell_type": "markdown",
   "id": "2dc23ecb-d21b-4360-9b14-dc8cb0598dba",
   "metadata": {},
   "source": [
    "## Topic 4 - Using columns selectors to group and aggregate.\n",
    "\n",
    "We can also use column selectors when transforming columns, such as\n",
    "\n",
    "Aggregation also benefits from columns selectors, both for\n",
    "1. Performing the same calulation on multiple columns,\n",
    "2. Selecting columns to `group_by`, as well as\n",
    "2. Performing multiple similar `agg`regations."
   ]
  },
  {
   "cell_type": "markdown",
   "id": "d309e3be-4e3e-40e7-bf23-8fe1059b2144",
   "metadata": {},
   "source": [
    "### Example 1 - Computing rates per 1,000 people.\n",
    "\n",
    "First, let's illustrate using a column selector in a mutate.\n",
    "\n",
    "**Goal.** Compute the per 1,000 person rates for CO2 and GDP for the 2000s."
   ]
  },
  {
   "cell_type": "code",
   "execution_count": null,
   "id": "ec993d7a-fef0-4210-b46e-d54b6012bd18",
   "metadata": {},
   "outputs": [],
   "source": [
    "(per_1000_rates :=\n",
    " WB_dev_ind\n",
    " .filter(pl.col('Series Name').str.contains(r'^(CO2|GDP|^Pop)'),\n",
    "         pl.col('Region').is_not_null(),\n",
    "        )\n",
    " .unpivot(on = cs.starts_with('200'),\n",
    "          index= cs.string() - cs.contains('Code'),\n",
    "          variable_name = \"Year\",\n",
    "          )\n",
    " .pivot(on = 'Series Name',\n",
    "        values = 'value',\n",
    "        index = cs.by_name('Year', 'Region'),\n",
    "        aggregate_function='sum',\n",
    "       )\n",
    " .with_columns(cs.starts_with('Pop').cast(pl.Int64))\n",
    " .with_columns((cs.float()/pl.col('Population, total')*1000).name.suffix(' per 1,000 people'))\n",
    ")"
   ]
  },
  {
   "cell_type": "markdown",
   "id": "f66a3bb1-43af-47d0-87cd-57bfe0af9251",
   "metadata": {},
   "source": [
    "### Example 2 - Compute the regional population totals."
   ]
  },
  {
   "cell_type": "markdown",
   "id": "00f10d62-868b-42ee-804e-2ee879a1275d",
   "metadata": {},
   "source": [
    "#### Solution 1 - Without column selectors"
   ]
  },
  {
   "cell_type": "code",
   "execution_count": null,
   "id": "ce8904b1-8560-486d-a83a-32a52e5989e3",
   "metadata": {},
   "outputs": [],
   "source": [
    "(pop_nums\n",
    " .filter(pl.col('Region').is_not_null())\n",
    " .group_by('Region', 'Year')\n",
    " .agg(pl.col('Population, total').sum(),\n",
    "      pl.col('Urban population').sum(),\n",
    "     )\n",
    ")"
   ]
  },
  {
   "cell_type": "markdown",
   "id": "188fe54b-9e10-4e10-ad72-57e8bf69ffee",
   "metadata": {},
   "source": [
    "#### Solution 2 - With column selectors"
   ]
  },
  {
   "cell_type": "code",
   "execution_count": null,
   "id": "96a320a4-6065-4616-b411-30b9b041ef7c",
   "metadata": {},
   "outputs": [],
   "source": [
    "(pop_nums_by_region_and_year :=\n",
    " pop_nums\n",
    " .drop(cs.starts_with('C'))\n",
    " .filter(pl.col('Region').is_not_null())\n",
    " .group_by(cs.string())\n",
    " .agg(cs.float().sum(),\n",
    "      # cs.float().mean(),\n",
    "     )\n",
    ")"
   ]
  },
  {
   "cell_type": "code",
   "execution_count": null,
   "id": "dfcadc0c-2e9f-4221-b8f7-c223a820246a",
   "metadata": {},
   "outputs": [],
   "source": [
    "(pop_nums_by_region_and_year :=\n",
    " pop_nums\n",
    " .drop(cs.starts_with('C'))\n",
    " .filter(pl.col('Region').is_not_null())\n",
    " .group_by(cs.string())\n",
    " .agg(cs.float().sum().name.prefix('total_'),\n",
    "      cs.float().mean().name.prefix('mean_'),\n",
    "     )\n",
    ")"
   ]
  },
  {
   "cell_type": "markdown",
   "id": "c61e0b1e-a3f8-4073-8cb1-1eb6757bdfbb",
   "metadata": {},
   "source": [
    "### Cleaning up multiple column transformations\n",
    "\n",
    "Finally, we can use column selectors to perform the same computation to multiple columns simultaneously."
   ]
  },
  {
   "cell_type": "markdown",
   "id": "9c8d9e43-3294-4f33-9ec2-d6245daf9843",
   "metadata": {},
   "source": [
    "### Example - Converting the population totals to per 1000 people. "
   ]
  },
  {
   "cell_type": "markdown",
   "id": "d240e950-8516-4a96-9c5f-97a03d5d6f12",
   "metadata": {},
   "source": [
    "#### Solution 1 - Without column selectors"
   ]
  },
  {
   "cell_type": "code",
   "execution_count": null,
   "id": "fa105695-8ea4-43c3-b23d-5103005a159d",
   "metadata": {},
   "outputs": [],
   "source": [
    "(pop_per_1K_by_region_and_year :=\n",
    " pop_nums_by_region_and_year\n",
    " .with_columns(pl.col('Population, total')/1000, \n",
    "               pl.col('Urban population')/1000,\n",
    "              )\n",
    ")"
   ]
  },
  {
   "cell_type": "markdown",
   "id": "a0d05a08-0578-45b6-8b1a-6ea8f73b71b8",
   "metadata": {},
   "source": [
    "#### Solution 2 - With column selectors"
   ]
  },
  {
   "cell_type": "code",
   "execution_count": null,
   "id": "58bf42f7-2517-42d6-aff2-c959e3037dd9",
   "metadata": {},
   "outputs": [],
   "source": [
    "(pop_per_1K_by_region_and_year :=\n",
    " pop_nums_by_region_and_year\n",
    " .with_columns(cs.float()/1000)\n",
    ")"
   ]
  },
  {
   "cell_type": "markdown",
   "id": "cbfb2d70-a943-42cb-a24f-30fc38d3cd42",
   "metadata": {},
   "source": [
    "### Example - Standardize multiple columns"
   ]
  },
  {
   "cell_type": "markdown",
   "id": "a7c229ae-e84d-4d1d-9048-6a73a8d7bc3d",
   "metadata": {},
   "source": [
    "#### Solution 1 - Without column selectors"
   ]
  },
  {
   "cell_type": "code",
   "execution_count": null,
   "id": "a63068fb-099f-46b7-81ec-457595f14b6f",
   "metadata": {},
   "outputs": [],
   "source": [
    "(pop_z_scores_by_region_and_year :=\n",
    " pop_nums_by_region_and_year\n",
    " .with_columns((pl.col('Population, total') - pl.col('Population, total').mean())/pl.col('Population, total').std(), \n",
    "               (pl.col('Urban population') - pl.col('Urban population').mean())/pl.col('Urban population').std(),\n",
    "              )\n",
    ")"
   ]
  },
  {
   "cell_type": "markdown",
   "id": "ad895b5f-137b-4daf-a883-9fee9ae77437",
   "metadata": {},
   "source": [
    "#### Solution 2 - With columns selectors"
   ]
  },
  {
   "cell_type": "code",
   "execution_count": null,
   "id": "c2b5f2a9-96b4-43cc-8310-9eaabdd7b4fd",
   "metadata": {
    "scrolled": true
   },
   "outputs": [],
   "source": [
    "(pop_per_1K_by_region_and_year :=\n",
    " pop_nums_by_region_and_year\n",
    " .with_columns((cs.float() - cs.float().mean())/cs.float().std())\n",
    ")"
   ]
  },
  {
   "cell_type": "markdown",
   "id": "cdb9542a-2223-44bf-9894-bc5b2eac5e58",
   "metadata": {},
   "source": [
    "### Example - Standardize multiple columns (within `Region`)"
   ]
  },
  {
   "cell_type": "markdown",
   "id": "80ba625a-e076-42e1-854e-e6958bee369a",
   "metadata": {},
   "source": [
    "#### Solution 1 - Without column selectors"
   ]
  },
  {
   "cell_type": "code",
   "execution_count": null,
   "id": "a45b2155-9bbe-4104-b09e-ab5f8eb734f1",
   "metadata": {},
   "outputs": [],
   "source": [
    "(pop_z_scores_by_region_and_year :=\n",
    " pop_nums_by_region_and_year\n",
    " .with_columns((pl.col('Population, total') - pl.col('Population, total').mean().over('Region'))/pl.col('Population, total').std().over('Region'), \n",
    "               (pl.col('Urban population') - pl.col('Urban population').mean().over('Region'))/pl.col('Urban population').std().over('Region'),\n",
    "              )\n",
    ")"
   ]
  },
  {
   "cell_type": "markdown",
   "id": "1e0a079e-1145-43ae-8fe6-784824e4fc6b",
   "metadata": {},
   "source": [
    "#### Solution 2 - With columns selectors"
   ]
  },
  {
   "cell_type": "code",
   "execution_count": null,
   "id": "c74ddb51-2f54-4c46-89b2-a1c2dd48ca62",
   "metadata": {
    "scrolled": true
   },
   "outputs": [],
   "source": [
    "(pop_per_1K_by_region_and_year :=\n",
    " pop_nums_by_region_and_year\n",
    " .with_columns((cs.float() - cs.float().mean().over('Region'))/cs.float().std().over('Region'))\n",
    ")"
   ]
  },
  {
   "cell_type": "markdown",
   "id": "4881a8ed-47d6-474f-b9ff-67e8122f0ab1",
   "metadata": {},
   "source": [
    "## <font color=\"red\"> Exercise 3.1.3 </font>\n",
    "\n",
    "Now redo the work in the first exercise, but also use one column selector to perform the `agg` step."
   ]
  },
  {
   "cell_type": "code",
   "execution_count": 10,
   "id": "c3c74c46-c9ce-4a22-a9d5-c8be2b57ee0d",
   "metadata": {},
   "outputs": [
    {
     "name": "stdout",
     "output_type": "stream",
     "text": [
      "shape: (448, 5)\n",
      "┌──────────────┬───────────────┬──────────────────────┬──────────────────────┬─────────────────────┐\n",
      "│ Region       ┆ year          ┆ total_diabetes_cases ┆ total_population_reg ┆ prevalence_rate_reg │\n",
      "│ ---          ┆ ---           ┆ ---                  ┆ ion                  ┆ ion                 │\n",
      "│ str          ┆ str           ┆ f64                  ┆ ---                  ┆ ---                 │\n",
      "│              ┆               ┆                      ┆ f64                  ┆ f64                 │\n",
      "╞══════════════╪═══════════════╪══════════════════════╪══════════════════════╪═════════════════════╡\n",
      "│ null         ┆ 1960 [YR1960] ┆ 0.0                  ┆ 0.0                  ┆ NaN                 │\n",
      "│ null         ┆ 1961 [YR1961] ┆ 0.0                  ┆ 0.0                  ┆ NaN                 │\n",
      "│ null         ┆ 1962 [YR1962] ┆ 0.0                  ┆ 0.0                  ┆ NaN                 │\n",
      "│ null         ┆ 1963 [YR1963] ┆ 0.0                  ┆ 0.0                  ┆ NaN                 │\n",
      "│ null         ┆ 1964 [YR1964] ┆ 0.0                  ┆ 0.0                  ┆ NaN                 │\n",
      "│ …            ┆ …             ┆ …                    ┆ …                    ┆ …                   │\n",
      "│ The Americas ┆ 2019 [YR2019] ┆ 0.0                  ┆ 0.0                  ┆ NaN                 │\n",
      "│ The Americas ┆ 2020 [YR2020] ┆ 0.0                  ┆ 0.0                  ┆ NaN                 │\n",
      "│ The Americas ┆ 2021 [YR2021] ┆ 0.0                  ┆ 0.0                  ┆ NaN                 │\n",
      "│ The Americas ┆ 2022 [YR2022] ┆ 0.0                  ┆ 0.0                  ┆ NaN                 │\n",
      "│ The Americas ┆ Series Name   ┆ 0.0                  ┆ 0.0                  ┆ NaN                 │\n",
      "└──────────────┴───────────────┴──────────────────────┴──────────────────────┴─────────────────────┘\n"
     ]
    },
    {
     "name": "stderr",
     "output_type": "stream",
     "text": [
      "C:\\Users\\fx3734qp\\AppData\\Local\\Temp\\ipykernel_21912\\3864989036.py:10: DeprecationWarning: `DataFrame.melt` is deprecated; use `DataFrame.unpivot` instead, with `index` instead of `id_vars` and `on` instead of `value_vars`\n",
      "  WB_dev_ind.melt(\n",
      "C:\\Users\\fx3734qp\\AppData\\Local\\Temp\\ipykernel_21912\\3864989036.py:16: DeprecationWarning: the argument `columns` for `DataFrame.pivot` is deprecated. It was renamed to `on` in version 1.0.0.\n",
      "  .pivot(\n"
     ]
    }
   ],
   "source": [
    "import polars as pl\n",
    "import polars.selectors as cs\n",
    "WB_dev_ind = pl.DataFrame(WB_dev_ind)\n",
    "df_prevalence = (\n",
    "    WB_dev_ind.melt(\n",
    "        id_vars=['Country Name', 'Region', 'Series Code'],\n",
    "        value_vars=cs.matches(r'^\\d{4}$'),\n",
    "        variable_name='year',\n",
    "        value_name='value'\n",
    "    )\n",
    "    .pivot(\n",
    "        index=['Country Name', 'Region', 'year'],\n",
    "        columns='Series Code',\n",
    "        values='value',\n",
    "        aggregate_function=\"sum\"\n",
    "    )\n",
    "    .with_columns(\n",
    "        cs.by_name('SP.POP.TOTL', 'SH.STA.DIAB.ZS').cast(pl.Float64, strict=False)\n",
    "    )\n",
    "    .with_columns(\n",
    "        total_diabetes_cases=(pl.col('SP.POP.TOTL') * pl.col('SH.STA.DIAB.ZS') / 100)\n",
    "    )\n",
    "    .group_by(cs.by_name('Region', 'year'))\n",
    "    .agg(\n",
    "        [\n",
    "            pl.sum('total_diabetes_cases').alias('total_diabetes_cases'),\n",
    "            pl.sum('SP.POP.TOTL').alias('total_population_region')\n",
    "        ]\n",
    "    )\n",
    "    .with_columns(\n",
    "        prevalence_rate_region=(pl.col('total_diabetes_cases') / pl.col('total_population_region') * 100)\n",
    "    )\n",
    "    .sort(['Region', 'year'])\n",
    ")\n",
    "\n",
    "print(df_prevalence)"
   ]
  },
  {
   "cell_type": "code",
   "execution_count": null,
   "id": "cccdaa14-6ab7-450e-8b57-6fcd852b7568",
   "metadata": {},
   "outputs": [],
   "source": []
  }
 ],
 "metadata": {
  "kernelspec": {
   "display_name": "Python 3 (ipykernel)",
   "language": "python",
   "name": "python3"
  },
  "language_info": {
   "codemirror_mode": {
    "name": "ipython",
    "version": 3
   },
   "file_extension": ".py",
   "mimetype": "text/x-python",
   "name": "python",
   "nbconvert_exporter": "python",
   "pygments_lexer": "ipython3",
   "version": "3.13.5"
  }
 },
 "nbformat": 4,
 "nbformat_minor": 5
}
